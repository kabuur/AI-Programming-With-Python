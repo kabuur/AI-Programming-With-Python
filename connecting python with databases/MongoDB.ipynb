{
 "cells": [
  {
   "cell_type": "code",
   "execution_count": 1,
   "metadata": {},
   "outputs": [],
   "source": [
    "%load_ext lab_black"
   ]
  },
  {
   "cell_type": "code",
   "execution_count": null,
   "metadata": {},
   "outputs": [],
   "source": [
    "!pip3 install pymongo"
   ]
  },
  {
   "cell_type": "code",
   "execution_count": 1,
   "metadata": {},
   "outputs": [],
   "source": [
    "# importing the required libraries\n",
    "import pymongo\n",
    "import pprint\n",
    "import json\n",
    "import warnings\n",
    "\n",
    "warnings.filterwarnings(\"ignore\")"
   ]
  },
  {
   "cell_type": "code",
   "execution_count": 2,
   "metadata": {},
   "outputs": [],
   "source": [
    "# connect to the mongoclient\n",
    "client = pymongo.MongoClient(\"mongodb://localhost:27017\")"
   ]
  },
  {
   "cell_type": "code",
   "execution_count": 3,
   "metadata": {},
   "outputs": [
    {
     "name": "stdout",
     "output_type": "stream",
     "text": [
      "2021-06-03T13:40:50.383+0530\tThe --db and --collection flags are deprecated for this use-case; please use --nsInclude instead, i.e. with --nsInclude=${DATABASE}.${COLLECTION}\n",
      "2021-06-03T13:40:50.383+0530\tbuilding a list of collections to restore from /home/avadmin/Desktop/Mongo/Aggregation/training/training dir\n",
      "2021-06-03T13:40:50.383+0530\treading metadata for training.hr from /home/avadmin/Desktop/Mongo/Aggregation/training/training/hr.metadata.json\n",
      "2021-06-03T13:40:50.399+0530\trestoring training.hr from /home/avadmin/Desktop/Mongo/Aggregation/training/training/hr.bson\n",
      "2021-06-03T13:40:50.537+0530\tno indexes to restore\n",
      "2021-06-03T13:40:50.537+0530\tfinished restoring training.hr (18359 documents, 0 failures)\n",
      "2021-06-03T13:40:50.537+0530\t18359 document(s) restored successfully. 0 document(s) failed to restore.\n"
     ]
    }
   ],
   "source": [
    "# mongo restore HR data\n",
    "!mongorestore --db training /home/sharoon/Desktop/Mongodb/training/"
   ]
  },
  {
   "cell_type": "code",
   "execution_count": 4,
   "metadata": {},
   "outputs": [
    {
     "data": {
      "text/plain": [
       "['admin', 'config', 'demo', 'local', 'nyc', 'stock', 'training']"
      ]
     },
     "execution_count": 4,
     "metadata": {},
     "output_type": "execute_result"
    }
   ],
   "source": [
    "# List available databases\n",
    "client.list_database_names()"
   ]
  },
  {
   "cell_type": "code",
   "execution_count": 5,
   "metadata": {},
   "outputs": [],
   "source": [
    "# get the database\n",
    "db = client[\"training\"]"
   ]
  },
  {
   "cell_type": "code",
   "execution_count": 6,
   "metadata": {},
   "outputs": [
    {
     "data": {
      "text/plain": [
       "['hr']"
      ]
     },
     "execution_count": 6,
     "metadata": {},
     "output_type": "execute_result"
    }
   ],
   "source": [
    "# List collections\n",
    "db.list_collection_names()"
   ]
  },
  {
   "cell_type": "code",
   "execution_count": 7,
   "metadata": {},
   "outputs": [
    {
     "data": {
      "text/plain": [
       "{'_id': ObjectId('60af5db0b2f5ad99212f9464'),\n",
       " 'enrollee_id': 23798,\n",
       " 'gender': 'Male',\n",
       " 'date_of_enrollment': datetime.datetime(2016, 1, 23, 0, 0),\n",
       " 'city': {'name': 'city_149', 'development_index': 0.689},\n",
       " 'education': {'level': 'Graduate', 'discipline': 'STEM'},\n",
       " 'experience': {'years': 3,\n",
       "  'company_type': 'Pvt Ltd',\n",
       "  'last_new_job': 1,\n",
       "  'relevent_experience': 1},\n",
       " 'training_hours': 106}"
      ]
     },
     "execution_count": 7,
     "metadata": {},
     "output_type": "execute_result"
    }
   ],
   "source": [
    "# Print one document\n",
    "db.hr.find_one()"
   ]
  },
  {
   "cell_type": "code",
   "execution_count": 8,
   "metadata": {},
   "outputs": [
    {
     "name": "stdout",
     "output_type": "stream",
     "text": [
      "{'_id': ObjectId('60af5db0b2f5ad99212f9464'),\n",
      " 'city': {'development_index': 0.689, 'name': 'city_149'},\n",
      " 'date_of_enrollment': datetime.datetime(2016, 1, 23, 0, 0),\n",
      " 'education': {'discipline': 'STEM', 'level': 'Graduate'},\n",
      " 'enrollee_id': 23798,\n",
      " 'experience': {'company_type': 'Pvt Ltd',\n",
      "                'last_new_job': 1,\n",
      "                'relevent_experience': 1,\n",
      "                'years': 3},\n",
      " 'gender': 'Male',\n",
      " 'training_hours': 106}\n"
     ]
    }
   ],
   "source": [
    "pprint.pprint(db.hr.find_one())"
   ]
  },
  {
   "cell_type": "code",
   "execution_count": null,
   "metadata": {},
   "outputs": [],
   "source": []
  }
 ],
 "metadata": {
  "kernelspec": {
   "display_name": "Python 3",
   "language": "python",
   "name": "python3"
  },
  "language_info": {
   "codemirror_mode": {
    "name": "ipython",
    "version": 3
   },
   "file_extension": ".py",
   "mimetype": "text/x-python",
   "name": "python",
   "nbconvert_exporter": "python",
   "pygments_lexer": "ipython3",
   "version": "3.7.4"
  }
 },
 "nbformat": 4,
 "nbformat_minor": 5
}
