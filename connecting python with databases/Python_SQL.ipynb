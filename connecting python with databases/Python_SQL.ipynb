{
 "cells": [
  {
   "cell_type": "markdown",
   "metadata": {},
   "source": [
    "## Connecting to MySQL"
   ]
  },
  {
   "cell_type": "code",
   "execution_count": 1,
   "metadata": {},
   "outputs": [],
   "source": [
    "%load_ext lab_black"
   ]
  },
  {
   "cell_type": "markdown",
   "metadata": {},
   "source": [
    "### Installing MySQL-Connector"
   ]
  },
  {
   "cell_type": "code",
   "execution_count": 2,
   "metadata": {
    "tags": []
   },
   "outputs": [
    {
     "name": "stdout",
     "output_type": "stream",
     "text": [
      "Requirement already satisfied: mysql-connector-python in /home/sharoon/.local/lib/python3.8/site-packages (8.0.25)\n",
      "Requirement already satisfied: protobuf>=3.0.0 in /usr/lib/python3/dist-packages (from mysql-connector-python) (3.6.1)\n"
     ]
    }
   ],
   "source": [
    "!pip3 install mysql-connector-python"
   ]
  },
  {
   "cell_type": "markdown",
   "metadata": {},
   "source": [
    "### Connecting to MySQL Server"
   ]
  },
  {
   "cell_type": "code",
   "execution_count": 2,
   "metadata": {},
   "outputs": [
    {
     "name": "stdout",
     "output_type": "stream",
     "text": [
      "<mysql.connector.connection_cext.CMySQLConnection object at 0x7fcf0a0aaca0>\n"
     ]
    }
   ],
   "source": [
    "import mysql.connector as mysql\n",
    "\n",
    "db = mysql.connect(\n",
    "    host=\"localhost\",\n",
    "    user=\"root\",\n",
    "    password=\"Password@123\",\n",
    "    auth_plugin=\"mysql_native_password\",\n",
    ")\n",
    "\n",
    "print(db)"
   ]
  },
  {
   "cell_type": "code",
   "execution_count": 3,
   "metadata": {},
   "outputs": [],
   "source": [
    "## creating an instance of 'cursor' class which is used to execute the 'SQL' statements in 'Python'\n",
    "cursor = db.cursor()"
   ]
  },
  {
   "cell_type": "code",
   "execution_count": 4,
   "metadata": {},
   "outputs": [],
   "source": [
    "cursor.execute(\"SHOW DATABASES\")"
   ]
  },
  {
   "cell_type": "code",
   "execution_count": 5,
   "metadata": {},
   "outputs": [],
   "source": [
    "databases = cursor.fetchall()  ## it returns a list of all databases present"
   ]
  },
  {
   "cell_type": "code",
   "execution_count": 6,
   "metadata": {},
   "outputs": [
    {
     "name": "stdout",
     "output_type": "stream",
     "text": [
      "[('information_schema',), ('meal_info',), ('mysql',), ('performance_schema',), ('sys',), ('world',)]\n"
     ]
    }
   ],
   "source": [
    "print(databases)"
   ]
  },
  {
   "cell_type": "code",
   "execution_count": 7,
   "metadata": {},
   "outputs": [],
   "source": [
    "import mysql.connector as mysql\n",
    "\n",
    "db = mysql.connect(\n",
    "    host=\"localhost\",\n",
    "    user=\"root\",\n",
    "    password=\"Password@123\",\n",
    "    database=\"information_schema\",\n",
    ")\n",
    "\n",
    "cursor = db.cursor()"
   ]
  },
  {
   "cell_type": "code",
   "execution_count": 8,
   "metadata": {},
   "outputs": [
    {
     "name": "stdout",
     "output_type": "stream",
     "text": [
      "[('ADMINISTRABLE_ROLE_AUTHORIZATIONS',), ('APPLICABLE_ROLES',), ('CHARACTER_SETS',), ('CHECK_CONSTRAINTS',), ('COLLATIONS',), ('COLLATION_CHARACTER_SET_APPLICABILITY',), ('COLUMNS',), ('COLUMNS_EXTENSIONS',), ('COLUMN_PRIVILEGES',), ('COLUMN_STATISTICS',), ('ENABLED_ROLES',), ('ENGINES',), ('EVENTS',), ('FILES',), ('INNODB_BUFFER_PAGE',), ('INNODB_BUFFER_PAGE_LRU',), ('INNODB_BUFFER_POOL_STATS',), ('INNODB_CACHED_INDEXES',), ('INNODB_CMP',), ('INNODB_CMPMEM',), ('INNODB_CMPMEM_RESET',), ('INNODB_CMP_PER_INDEX',), ('INNODB_CMP_PER_INDEX_RESET',), ('INNODB_CMP_RESET',), ('INNODB_COLUMNS',), ('INNODB_DATAFILES',), ('INNODB_FIELDS',), ('INNODB_FOREIGN',), ('INNODB_FOREIGN_COLS',), ('INNODB_FT_BEING_DELETED',), ('INNODB_FT_CONFIG',), ('INNODB_FT_DEFAULT_STOPWORD',), ('INNODB_FT_DELETED',), ('INNODB_FT_INDEX_CACHE',), ('INNODB_FT_INDEX_TABLE',), ('INNODB_INDEXES',), ('INNODB_METRICS',), ('INNODB_SESSION_TEMP_TABLESPACES',), ('INNODB_TABLES',), ('INNODB_TABLESPACES',), ('INNODB_TABLESPACES_BRIEF',), ('INNODB_TABLESTATS',), ('INNODB_TEMP_TABLE_INFO',), ('INNODB_TRX',), ('INNODB_VIRTUAL',), ('KEYWORDS',), ('KEY_COLUMN_USAGE',), ('OPTIMIZER_TRACE',), ('PARAMETERS',), ('PARTITIONS',), ('PLUGINS',), ('PROCESSLIST',), ('PROFILING',), ('REFERENTIAL_CONSTRAINTS',), ('RESOURCE_GROUPS',), ('ROLE_COLUMN_GRANTS',), ('ROLE_ROUTINE_GRANTS',), ('ROLE_TABLE_GRANTS',), ('ROUTINES',), ('SCHEMATA',), ('SCHEMATA_EXTENSIONS',), ('SCHEMA_PRIVILEGES',), ('STATISTICS',), ('ST_GEOMETRY_COLUMNS',), ('ST_SPATIAL_REFERENCE_SYSTEMS',), ('ST_UNITS_OF_MEASURE',), ('TABLES',), ('TABLESPACES',), ('TABLESPACES_EXTENSIONS',), ('TABLES_EXTENSIONS',), ('TABLE_CONSTRAINTS',), ('TABLE_CONSTRAINTS_EXTENSIONS',), ('TABLE_PRIVILEGES',), ('TRIGGERS',), ('USER_ATTRIBUTES',), ('USER_PRIVILEGES',), ('VIEWS',), ('VIEW_ROUTINE_USAGE',), ('VIEW_TABLE_USAGE',)]\n"
     ]
    }
   ],
   "source": [
    "cursor.execute(\"SHOW TABLES\")\n",
    "tables = cursor.fetchall()  ## it returns a list of all databases present\n",
    "print(tables)"
   ]
  },
  {
   "cell_type": "code",
   "execution_count": 9,
   "metadata": {},
   "outputs": [
    {
     "name": "stdout",
     "output_type": "stream",
     "text": [
      "[('debian-sys-maint', 'localhost', None), ('mysql.infoschema', 'localhost', None), ('mysql.session', 'localhost', None), ('mysql.sys', 'localhost', None), ('root', 'localhost', None), ('sharoon', 'localhost', None), ('sharoonav', 'localhost', None)]\n"
     ]
    }
   ],
   "source": [
    "cursor.execute(\"SELECT * FROM USER_ATTRIBUTES\")\n",
    "data = cursor.fetchall()  ## it returns a list of all databases present\n",
    "print(data)"
   ]
  }
 ],
 "metadata": {
  "kernelspec": {
   "display_name": "Python 3",
   "language": "python",
   "name": "python3"
  },
  "language_info": {
   "codemirror_mode": {
    "name": "ipython",
    "version": 3
   },
   "file_extension": ".py",
   "mimetype": "text/x-python",
   "name": "python",
   "nbconvert_exporter": "python",
   "pygments_lexer": "ipython3",
   "version": "3.7.4"
  }
 },
 "nbformat": 4,
 "nbformat_minor": 5
}
