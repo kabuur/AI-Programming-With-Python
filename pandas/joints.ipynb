{
 "cells": [
  {
   "cell_type": "code",
   "execution_count": 3,
   "id": "ad578bb8",
   "metadata": {},
   "outputs": [],
   "source": [
    "import pandas as pd"
   ]
  },
  {
   "cell_type": "markdown",
   "id": "fdf92846",
   "metadata": {},
   "source": [
    "# Left Joints"
   ]
  },
  {
   "cell_type": "code",
   "execution_count": 8,
   "id": "c52f8d3c",
   "metadata": {},
   "outputs": [],
   "source": [
    "Students = pd.DataFrame({\n",
    "    \"Role_no\" :[101, 102, 103, 104],\n",
    "    \"Name\"    :[\"Ahmed\",\"Mohamed\",\"Qalid\",\"fraxaan\"],\n",
    "    \"marks\"    :[60, 92, 90, 80],\n",
    "    \"Grade\"    :[\"C\",\"A\",\"A\", \"B\"],\n",
    "    \"Cities\"   :[\"Bosaso\",\"Baydaba\",\"Hargessa\",\"Kismanyo\"]\n",
    "})\n"
   ]
  },
  {
   "cell_type": "code",
   "execution_count": 9,
   "id": "23da0650",
   "metadata": {},
   "outputs": [],
   "source": [
    "City_state_maping = pd.DataFrame({\n",
    "    \"Cities\" :[\"Bosaso\",\"Baydaba\",\"Hargessa\",\"Kismanyo\",\"Mogadishu\"],\n",
    "    \"State\"  :[\"Puntuland\",\"KGS\",\"SLD\",\"JPL\",\"Banadir\"]\n",
    "})"
   ]
  },
  {
   "cell_type": "code",
   "execution_count": 13,
   "id": "3b7abe2d",
   "metadata": {},
   "outputs": [],
   "source": [
    "left_jion = Students.merge(City_state_maping, how=\"left\", on =\"Cities\")"
   ]
  },
  {
   "cell_type": "code",
   "execution_count": 14,
   "id": "c98e979d",
   "metadata": {},
   "outputs": [
    {
     "data": {
      "text/html": [
       "<div>\n",
       "<style scoped>\n",
       "    .dataframe tbody tr th:only-of-type {\n",
       "        vertical-align: middle;\n",
       "    }\n",
       "\n",
       "    .dataframe tbody tr th {\n",
       "        vertical-align: top;\n",
       "    }\n",
       "\n",
       "    .dataframe thead th {\n",
       "        text-align: right;\n",
       "    }\n",
       "</style>\n",
       "<table border=\"1\" class=\"dataframe\">\n",
       "  <thead>\n",
       "    <tr style=\"text-align: right;\">\n",
       "      <th></th>\n",
       "      <th>Role_no</th>\n",
       "      <th>Name</th>\n",
       "      <th>marks</th>\n",
       "      <th>Grade</th>\n",
       "      <th>Cities</th>\n",
       "      <th>State</th>\n",
       "    </tr>\n",
       "  </thead>\n",
       "  <tbody>\n",
       "    <tr>\n",
       "      <th>0</th>\n",
       "      <td>101</td>\n",
       "      <td>Ahmed</td>\n",
       "      <td>60</td>\n",
       "      <td>C</td>\n",
       "      <td>Bosaso</td>\n",
       "      <td>Puntuland</td>\n",
       "    </tr>\n",
       "    <tr>\n",
       "      <th>1</th>\n",
       "      <td>102</td>\n",
       "      <td>Mohamed</td>\n",
       "      <td>92</td>\n",
       "      <td>A</td>\n",
       "      <td>Baydaba</td>\n",
       "      <td>KGS</td>\n",
       "    </tr>\n",
       "    <tr>\n",
       "      <th>2</th>\n",
       "      <td>103</td>\n",
       "      <td>Qalid</td>\n",
       "      <td>90</td>\n",
       "      <td>A</td>\n",
       "      <td>Hargessa</td>\n",
       "      <td>SLD</td>\n",
       "    </tr>\n",
       "    <tr>\n",
       "      <th>3</th>\n",
       "      <td>104</td>\n",
       "      <td>fraxaan</td>\n",
       "      <td>80</td>\n",
       "      <td>B</td>\n",
       "      <td>Kismanyo</td>\n",
       "      <td>JPL</td>\n",
       "    </tr>\n",
       "  </tbody>\n",
       "</table>\n",
       "</div>"
      ],
      "text/plain": [
       "   Role_no     Name  marks Grade    Cities      State\n",
       "0      101    Ahmed     60     C    Bosaso  Puntuland\n",
       "1      102  Mohamed     92     A   Baydaba        KGS\n",
       "2      103    Qalid     90     A  Hargessa        SLD\n",
       "3      104  fraxaan     80     B  Kismanyo        JPL"
      ]
     },
     "execution_count": 14,
     "metadata": {},
     "output_type": "execute_result"
    }
   ],
   "source": [
    "left_jion"
   ]
  },
  {
   "cell_type": "markdown",
   "id": "690833bf",
   "metadata": {},
   "source": [
    "# Right Joints"
   ]
  },
  {
   "cell_type": "code",
   "execution_count": 40,
   "id": "23774553",
   "metadata": {},
   "outputs": [],
   "source": [
    "Role_no = pd.DataFrame({\n",
    "    \"Role_no\" : [101,104,120,200],\n",
    "    \"package\" : [1.2, 5.6, 6.7, 8.2]\n",
    "})"
   ]
  },
  {
   "cell_type": "code",
   "execution_count": 43,
   "id": "a7fc2327",
   "metadata": {},
   "outputs": [],
   "source": [
    "std = pd.DataFrame({\n",
    "    \"Role_no\" :[101, 102, 103, 104],\n",
    "    \"Collage\" : [\"JAMHURIYA UNV\",\"JAMHURIYA UNV\",\"JAMHURIYA UNV\",\"JAMHURIYA UNV\"],\n",
    "    \"Name\"    :[\"Ahmed\",\"Mohamed\",\"Qalid\",\"fraxaan\"],\n",
    "    \"marks\"    :[60, 92, 90, 80],\n",
    "    \"Grade\"    :[\"C\",\"A\",\"A\", \"B\"],\n",
    "    \"Cities\"   :[\"Bosaso\",\"Baydaba\",\"Hargessa\",\"Kismanyo\"]\n",
    "})"
   ]
  },
  {
   "cell_type": "code",
   "execution_count": 44,
   "id": "ee6a3611",
   "metadata": {},
   "outputs": [],
   "source": [
    "Rigth_Join = std.merge(Role_no,how=\"right\" ,on = \"Role_no\")"
   ]
  },
  {
   "cell_type": "code",
   "execution_count": 45,
   "id": "d9f27ff9",
   "metadata": {},
   "outputs": [
    {
     "data": {
      "text/html": [
       "<div>\n",
       "<style scoped>\n",
       "    .dataframe tbody tr th:only-of-type {\n",
       "        vertical-align: middle;\n",
       "    }\n",
       "\n",
       "    .dataframe tbody tr th {\n",
       "        vertical-align: top;\n",
       "    }\n",
       "\n",
       "    .dataframe thead th {\n",
       "        text-align: right;\n",
       "    }\n",
       "</style>\n",
       "<table border=\"1\" class=\"dataframe\">\n",
       "  <thead>\n",
       "    <tr style=\"text-align: right;\">\n",
       "      <th></th>\n",
       "      <th>Role_no</th>\n",
       "      <th>Collage</th>\n",
       "      <th>Name</th>\n",
       "      <th>marks</th>\n",
       "      <th>Grade</th>\n",
       "      <th>Cities</th>\n",
       "      <th>package</th>\n",
       "    </tr>\n",
       "  </thead>\n",
       "  <tbody>\n",
       "    <tr>\n",
       "      <th>0</th>\n",
       "      <td>101</td>\n",
       "      <td>JAMHURIYA UNV</td>\n",
       "      <td>Ahmed</td>\n",
       "      <td>60.0</td>\n",
       "      <td>C</td>\n",
       "      <td>Bosaso</td>\n",
       "      <td>1.2</td>\n",
       "    </tr>\n",
       "    <tr>\n",
       "      <th>1</th>\n",
       "      <td>104</td>\n",
       "      <td>JAMHURIYA UNV</td>\n",
       "      <td>fraxaan</td>\n",
       "      <td>80.0</td>\n",
       "      <td>B</td>\n",
       "      <td>Kismanyo</td>\n",
       "      <td>5.6</td>\n",
       "    </tr>\n",
       "    <tr>\n",
       "      <th>2</th>\n",
       "      <td>120</td>\n",
       "      <td>NaN</td>\n",
       "      <td>NaN</td>\n",
       "      <td>NaN</td>\n",
       "      <td>NaN</td>\n",
       "      <td>NaN</td>\n",
       "      <td>6.7</td>\n",
       "    </tr>\n",
       "    <tr>\n",
       "      <th>3</th>\n",
       "      <td>200</td>\n",
       "      <td>NaN</td>\n",
       "      <td>NaN</td>\n",
       "      <td>NaN</td>\n",
       "      <td>NaN</td>\n",
       "      <td>NaN</td>\n",
       "      <td>8.2</td>\n",
       "    </tr>\n",
       "  </tbody>\n",
       "</table>\n",
       "</div>"
      ],
      "text/plain": [
       "   Role_no        Collage     Name  marks Grade    Cities  package\n",
       "0      101  JAMHURIYA UNV    Ahmed   60.0     C    Bosaso      1.2\n",
       "1      104  JAMHURIYA UNV  fraxaan   80.0     B  Kismanyo      5.6\n",
       "2      120            NaN      NaN    NaN   NaN       NaN      6.7\n",
       "3      200            NaN      NaN    NaN   NaN       NaN      8.2"
      ]
     },
     "execution_count": 45,
     "metadata": {},
     "output_type": "execute_result"
    }
   ],
   "source": [
    "Rigth_Join"
   ]
  },
  {
   "cell_type": "markdown",
   "id": "f0205fed",
   "metadata": {},
   "source": [
    "# Full Joints"
   ]
  },
  {
   "cell_type": "code",
   "execution_count": 32,
   "id": "5462dc14",
   "metadata": {},
   "outputs": [],
   "source": [
    "Student_selection = pd.DataFrame({\n",
    "    \"Role_no\" : [103,102,108],\n",
    "    \"Canpany\" : [\"abc\",\"xyz\",\"ghy\"]\n",
    "})\n"
   ]
  },
  {
   "cell_type": "code",
   "execution_count": 33,
   "id": "e95a77b0",
   "metadata": {},
   "outputs": [],
   "source": [
    "Full_joint = Students.merge(Student_selection, how = \"outer\" ,on ='Role_no' )"
   ]
  },
  {
   "cell_type": "code",
   "execution_count": 34,
   "id": "167e1792",
   "metadata": {},
   "outputs": [
    {
     "data": {
      "text/html": [
       "<div>\n",
       "<style scoped>\n",
       "    .dataframe tbody tr th:only-of-type {\n",
       "        vertical-align: middle;\n",
       "    }\n",
       "\n",
       "    .dataframe tbody tr th {\n",
       "        vertical-align: top;\n",
       "    }\n",
       "\n",
       "    .dataframe thead th {\n",
       "        text-align: right;\n",
       "    }\n",
       "</style>\n",
       "<table border=\"1\" class=\"dataframe\">\n",
       "  <thead>\n",
       "    <tr style=\"text-align: right;\">\n",
       "      <th></th>\n",
       "      <th>Role_no</th>\n",
       "      <th>Name</th>\n",
       "      <th>marks</th>\n",
       "      <th>Grade</th>\n",
       "      <th>Cities</th>\n",
       "      <th>Canpany</th>\n",
       "    </tr>\n",
       "  </thead>\n",
       "  <tbody>\n",
       "    <tr>\n",
       "      <th>0</th>\n",
       "      <td>101</td>\n",
       "      <td>Ahmed</td>\n",
       "      <td>60.0</td>\n",
       "      <td>C</td>\n",
       "      <td>Bosaso</td>\n",
       "      <td>NaN</td>\n",
       "    </tr>\n",
       "    <tr>\n",
       "      <th>1</th>\n",
       "      <td>102</td>\n",
       "      <td>Mohamed</td>\n",
       "      <td>92.0</td>\n",
       "      <td>A</td>\n",
       "      <td>Baydaba</td>\n",
       "      <td>xyz</td>\n",
       "    </tr>\n",
       "    <tr>\n",
       "      <th>2</th>\n",
       "      <td>103</td>\n",
       "      <td>Qalid</td>\n",
       "      <td>90.0</td>\n",
       "      <td>A</td>\n",
       "      <td>Hargessa</td>\n",
       "      <td>abc</td>\n",
       "    </tr>\n",
       "    <tr>\n",
       "      <th>3</th>\n",
       "      <td>104</td>\n",
       "      <td>fraxaan</td>\n",
       "      <td>80.0</td>\n",
       "      <td>B</td>\n",
       "      <td>Kismanyo</td>\n",
       "      <td>NaN</td>\n",
       "    </tr>\n",
       "    <tr>\n",
       "      <th>4</th>\n",
       "      <td>108</td>\n",
       "      <td>NaN</td>\n",
       "      <td>NaN</td>\n",
       "      <td>NaN</td>\n",
       "      <td>NaN</td>\n",
       "      <td>ghy</td>\n",
       "    </tr>\n",
       "  </tbody>\n",
       "</table>\n",
       "</div>"
      ],
      "text/plain": [
       "   Role_no     Name  marks Grade    Cities Canpany\n",
       "0      101    Ahmed   60.0     C    Bosaso     NaN\n",
       "1      102  Mohamed   92.0     A   Baydaba     xyz\n",
       "2      103    Qalid   90.0     A  Hargessa     abc\n",
       "3      104  fraxaan   80.0     B  Kismanyo     NaN\n",
       "4      108      NaN    NaN   NaN       NaN     ghy"
      ]
     },
     "execution_count": 34,
     "metadata": {},
     "output_type": "execute_result"
    }
   ],
   "source": [
    "Full_joint"
   ]
  },
  {
   "cell_type": "markdown",
   "id": "5b22cbba",
   "metadata": {},
   "source": [
    "# Inner Joints"
   ]
  },
  {
   "cell_type": "code",
   "execution_count": 25,
   "id": "1ccc050a",
   "metadata": {},
   "outputs": [],
   "source": [
    "std = pd.DataFrame({\n",
    "    \"Role_no\" :[101, 102, 103, 104],\n",
    "    \"Collage\" : [\"JAMHURIYA UNV\",\"JAMHURIYA UNV\",\"JAMHURIYA UNV\",\"JAMHURIYA UNV\"],\n",
    "    \"Name\"    :[\"Ahmed\",\"Mohamed\",\"Qalid\",\"fraxaan\"],\n",
    "    \"marks\"    :[60, 92, 90, 80],\n",
    "    \"Grade\"    :[\"C\",\"A\",\"A\", \"B\"],\n",
    "    \"Cities\"   :[\"Bosaso\",\"Baydaba\",\"Hargessa\",\"Kismanyo\"]\n",
    "})"
   ]
  },
  {
   "cell_type": "code",
   "execution_count": 26,
   "id": "95ec7ac8",
   "metadata": {},
   "outputs": [],
   "source": [
    "pool = pd.DataFrame({\n",
    "      \"Collage\" : [\"JAMHURIYA UNV\",\"Simad UNV\",\"JAMHURIYA UNV\",\"Simad UNV\"],\n",
    "       \"Name\"    :[\"Ahmed\",\"Abudi\",\"Qalid\",\"Leylo\"],\n",
    "        \"Canpany\" : [\"abc\",\"xyz\",\"abc\",\"cxy\"]\n",
    "})"
   ]
  },
  {
   "cell_type": "code",
   "execution_count": 28,
   "id": "e4025e88",
   "metadata": {},
   "outputs": [],
   "source": [
    "inner_Join = std.merge(pool, how = \"inner\", on = [\"Name\", \"Collage\"])"
   ]
  },
  {
   "cell_type": "code",
   "execution_count": 29,
   "id": "03a91115",
   "metadata": {},
   "outputs": [
    {
     "data": {
      "text/html": [
       "<div>\n",
       "<style scoped>\n",
       "    .dataframe tbody tr th:only-of-type {\n",
       "        vertical-align: middle;\n",
       "    }\n",
       "\n",
       "    .dataframe tbody tr th {\n",
       "        vertical-align: top;\n",
       "    }\n",
       "\n",
       "    .dataframe thead th {\n",
       "        text-align: right;\n",
       "    }\n",
       "</style>\n",
       "<table border=\"1\" class=\"dataframe\">\n",
       "  <thead>\n",
       "    <tr style=\"text-align: right;\">\n",
       "      <th></th>\n",
       "      <th>Role_no</th>\n",
       "      <th>Collage</th>\n",
       "      <th>Name</th>\n",
       "      <th>marks</th>\n",
       "      <th>Grade</th>\n",
       "      <th>Cities</th>\n",
       "      <th>Canpany</th>\n",
       "    </tr>\n",
       "  </thead>\n",
       "  <tbody>\n",
       "    <tr>\n",
       "      <th>0</th>\n",
       "      <td>101</td>\n",
       "      <td>JAMHURIYA UNV</td>\n",
       "      <td>Ahmed</td>\n",
       "      <td>60</td>\n",
       "      <td>C</td>\n",
       "      <td>Bosaso</td>\n",
       "      <td>abc</td>\n",
       "    </tr>\n",
       "    <tr>\n",
       "      <th>1</th>\n",
       "      <td>103</td>\n",
       "      <td>JAMHURIYA UNV</td>\n",
       "      <td>Qalid</td>\n",
       "      <td>90</td>\n",
       "      <td>A</td>\n",
       "      <td>Hargessa</td>\n",
       "      <td>abc</td>\n",
       "    </tr>\n",
       "  </tbody>\n",
       "</table>\n",
       "</div>"
      ],
      "text/plain": [
       "   Role_no        Collage   Name  marks Grade    Cities Canpany\n",
       "0      101  JAMHURIYA UNV  Ahmed     60     C    Bosaso     abc\n",
       "1      103  JAMHURIYA UNV  Qalid     90     A  Hargessa     abc"
      ]
     },
     "execution_count": 29,
     "metadata": {},
     "output_type": "execute_result"
    }
   ],
   "source": [
    "inner_Join"
   ]
  },
  {
   "cell_type": "code",
   "execution_count": null,
   "id": "e0d40b6e",
   "metadata": {},
   "outputs": [],
   "source": []
  }
 ],
 "metadata": {
  "kernelspec": {
   "display_name": "Python 3 (ipykernel)",
   "language": "python",
   "name": "python3"
  },
  "language_info": {
   "codemirror_mode": {
    "name": "ipython",
    "version": 3
   },
   "file_extension": ".py",
   "mimetype": "text/x-python",
   "name": "python",
   "nbconvert_exporter": "python",
   "pygments_lexer": "ipython3",
   "version": "3.11.5"
  }
 },
 "nbformat": 4,
 "nbformat_minor": 5
}
