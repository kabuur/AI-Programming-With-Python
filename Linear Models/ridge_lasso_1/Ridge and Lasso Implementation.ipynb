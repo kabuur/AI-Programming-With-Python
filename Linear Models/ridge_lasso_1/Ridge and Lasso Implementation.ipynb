{
 "cells": [
  {
   "cell_type": "code",
   "execution_count": 94,
   "metadata": {
    "colab": {},
    "colab_type": "code",
    "id": "XiprJxiXIfN9"
   },
   "outputs": [],
   "source": [
    "#Importing libraries\n",
    "import numpy as np\n",
    "import pandas as pd\n",
    "import random\n",
    "import matplotlib.pyplot as plt\n",
    "from sklearn.model_selection import train_test_split\n",
    "%matplotlib inline"
   ]
  },
  {
   "cell_type": "code",
   "execution_count": 95,
   "metadata": {
    "colab": {},
    "colab_type": "code",
    "id": "QQWy8t4SIfOA"
   },
   "outputs": [],
   "source": [
    "#Defining independent variable as angles from 60deg to 300deg converted to radians\n",
    "x = np.array([i*np.pi/180 for i in range(10,360,3)])"
   ]
  },
  {
   "cell_type": "code",
   "execution_count": 96,
   "metadata": {},
   "outputs": [
    {
     "data": {
      "text/plain": [
       "117"
      ]
     },
     "execution_count": 96,
     "metadata": {},
     "output_type": "execute_result"
    }
   ],
   "source": [
    "len(x)"
   ]
  },
  {
   "cell_type": "code",
   "execution_count": 97,
   "metadata": {
    "colab": {},
    "colab_type": "code",
    "id": "CGRXp2TZIfOC"
   },
   "outputs": [],
   "source": [
    "#Setting seed for reproducability\n",
    "np.random.seed(10) \n"
   ]
  },
  {
   "cell_type": "code",
   "execution_count": 98,
   "metadata": {
    "colab": {},
    "colab_type": "code",
    "id": "NLYdFsSaIfOE"
   },
   "outputs": [],
   "source": [
    "#Defining the target/dependent variable as sine of the independent variable\n",
    "y = np.sin(x) + np.random.normal(0,0.15,len(x))"
   ]
  },
  {
   "cell_type": "code",
   "execution_count": 99,
   "metadata": {
    "colab": {},
    "colab_type": "code",
    "id": "A9hruXjrIfOG"
   },
   "outputs": [],
   "source": [
    "#Creating the dataframe using independent and dependent variable\n",
    "data = pd.DataFrame(np.column_stack([x,y]),columns=['x','y'])"
   ]
  },
  {
   "cell_type": "code",
   "execution_count": 100,
   "metadata": {
    "colab": {
     "base_uri": "https://localhost:8080/",
     "height": 204
    },
    "colab_type": "code",
    "executionInfo": {
     "elapsed": 2870,
     "status": "ok",
     "timestamp": 1560000616843,
     "user": {
      "displayName": "Sharoon Saxena",
      "photoUrl": "",
      "userId": "14774175216384036942"
     },
     "user_tz": -330
    },
    "id": "0j1ucc3fIfOI",
    "outputId": "c4df36fd-c705-4f9d-e73b-09a70bee42b9"
   },
   "outputs": [
    {
     "data": {
      "text/html": [
       "<div>\n",
       "<style scoped>\n",
       "    .dataframe tbody tr th:only-of-type {\n",
       "        vertical-align: middle;\n",
       "    }\n",
       "\n",
       "    .dataframe tbody tr th {\n",
       "        vertical-align: top;\n",
       "    }\n",
       "\n",
       "    .dataframe thead th {\n",
       "        text-align: right;\n",
       "    }\n",
       "</style>\n",
       "<table border=\"1\" class=\"dataframe\">\n",
       "  <thead>\n",
       "    <tr style=\"text-align: right;\">\n",
       "      <th></th>\n",
       "      <th>x</th>\n",
       "      <th>y</th>\n",
       "    </tr>\n",
       "  </thead>\n",
       "  <tbody>\n",
       "    <tr>\n",
       "      <th>0</th>\n",
       "      <td>0.17</td>\n",
       "      <td>0.37</td>\n",
       "    </tr>\n",
       "    <tr>\n",
       "      <th>1</th>\n",
       "      <td>0.23</td>\n",
       "      <td>0.33</td>\n",
       "    </tr>\n",
       "    <tr>\n",
       "      <th>2</th>\n",
       "      <td>0.28</td>\n",
       "      <td>0.044</td>\n",
       "    </tr>\n",
       "    <tr>\n",
       "      <th>3</th>\n",
       "      <td>0.33</td>\n",
       "      <td>0.32</td>\n",
       "    </tr>\n",
       "    <tr>\n",
       "      <th>4</th>\n",
       "      <td>0.38</td>\n",
       "      <td>0.47</td>\n",
       "    </tr>\n",
       "  </tbody>\n",
       "</table>\n",
       "</div>"
      ],
      "text/plain": [
       "     x     y\n",
       "0 0.17  0.37\n",
       "1 0.23  0.33\n",
       "2 0.28 0.044\n",
       "3 0.33  0.32\n",
       "4 0.38  0.47"
      ]
     },
     "execution_count": 100,
     "metadata": {},
     "output_type": "execute_result"
    }
   ],
   "source": [
    "#Printing first 5 rows of the data\n",
    "data.head()"
   ]
  },
  {
   "cell_type": "code",
   "execution_count": 101,
   "metadata": {},
   "outputs": [
    {
     "data": {
      "text/plain": [
       "(117, 2)"
      ]
     },
     "execution_count": 101,
     "metadata": {},
     "output_type": "execute_result"
    }
   ],
   "source": [
    "data.shape"
   ]
  },
  {
   "cell_type": "code",
   "execution_count": 102,
   "metadata": {
    "colab": {
     "base_uri": "https://localhost:8080/",
     "height": 503
    },
    "colab_type": "code",
    "executionInfo": {
     "elapsed": 3529,
     "status": "ok",
     "timestamp": 1560000617523,
     "user": {
      "displayName": "Sharoon Saxena",
      "photoUrl": "",
      "userId": "14774175216384036942"
     },
     "user_tz": -330
    },
    "id": "iXKirMENIfOO",
    "outputId": "56723192-ac14-41c9-d978-3232a8bc5c5c"
   },
   "outputs": [
    {
     "data": {
      "text/plain": [
       "[<matplotlib.lines.Line2D at 0x285d0efc790>]"
      ]
     },
     "execution_count": 102,
     "metadata": {},
     "output_type": "execute_result"
    },
    {
     "data": {
      "image/png": "[encoded data removed]",
      "text/plain": [
       "<Figure size 1200x800 with 1 Axes>"
      ]
     },
     "metadata": {},
     "output_type": "display_data"
    }
   ],
   "source": [
    "#Plotting the dependent and independent variables\n",
    "plt.figure(figsize=(12,8))\n",
    "plt.plot(data['x'],data['y'],'.')"
   ]
  },
  {
   "cell_type": "code",
   "execution_count": null,
   "metadata": {},
   "outputs": [],
   "source": []
  },
  {
   "cell_type": "code",
   "execution_count": 103,
   "metadata": {
    "colab": {
     "base_uri": "https://localhost:8080/",
     "height": 204
    },
    "colab_type": "code",
    "executionInfo": {
     "elapsed": 3494,
     "status": "ok",
     "timestamp": 1560000617525,
     "user": {
      "displayName": "Sharoon Saxena",
      "photoUrl": "",
      "userId": "14774175216384036942"
     },
     "user_tz": -330
    },
    "id": "c0KKNiYHIfOR",
    "outputId": "77397a05-f698-45f3-9969-73319abe35be"
   },
   "outputs": [
    {
     "data": {
      "text/html": [
       "<div>\n",
       "<style scoped>\n",
       "    .dataframe tbody tr th:only-of-type {\n",
       "        vertical-align: middle;\n",
       "    }\n",
       "\n",
       "    .dataframe tbody tr th {\n",
       "        vertical-align: top;\n",
       "    }\n",
       "\n",
       "    .dataframe thead th {\n",
       "        text-align: right;\n",
       "    }\n",
       "</style>\n",
       "<table border=\"1\" class=\"dataframe\">\n",
       "  <thead>\n",
       "    <tr style=\"text-align: right;\">\n",
       "      <th></th>\n",
       "      <th>x</th>\n",
       "      <th>y</th>\n",
       "      <th>x_2</th>\n",
       "      <th>x_3</th>\n",
       "      <th>x_4</th>\n",
       "      <th>x_5</th>\n",
       "      <th>x_6</th>\n",
       "      <th>x_7</th>\n",
       "      <th>x_8</th>\n",
       "      <th>x_9</th>\n",
       "      <th>x_10</th>\n",
       "      <th>x_11</th>\n",
       "      <th>x_12</th>\n",
       "      <th>x_13</th>\n",
       "      <th>x_14</th>\n",
       "      <th>x_15</th>\n",
       "    </tr>\n",
       "  </thead>\n",
       "  <tbody>\n",
       "    <tr>\n",
       "      <th>0</th>\n",
       "      <td>0.17</td>\n",
       "      <td>0.37</td>\n",
       "      <td>0.03</td>\n",
       "      <td>0.0053</td>\n",
       "      <td>0.00093</td>\n",
       "      <td>0.00016</td>\n",
       "      <td>2.8e-05</td>\n",
       "      <td>4.9e-06</td>\n",
       "      <td>8.6e-07</td>\n",
       "      <td>1.5e-07</td>\n",
       "      <td>2.6e-08</td>\n",
       "      <td>4.6e-09</td>\n",
       "      <td>8e-10</td>\n",
       "      <td>1.4e-10</td>\n",
       "      <td>2.4e-11</td>\n",
       "      <td>4.2e-12</td>\n",
       "    </tr>\n",
       "    <tr>\n",
       "      <th>1</th>\n",
       "      <td>0.23</td>\n",
       "      <td>0.33</td>\n",
       "      <td>0.051</td>\n",
       "      <td>0.012</td>\n",
       "      <td>0.0027</td>\n",
       "      <td>0.0006</td>\n",
       "      <td>0.00014</td>\n",
       "      <td>3.1e-05</td>\n",
       "      <td>7e-06</td>\n",
       "      <td>1.6e-06</td>\n",
       "      <td>3.6e-07</td>\n",
       "      <td>8.2e-08</td>\n",
       "      <td>1.9e-08</td>\n",
       "      <td>4.2e-09</td>\n",
       "      <td>9.6e-10</td>\n",
       "      <td>2.2e-10</td>\n",
       "    </tr>\n",
       "    <tr>\n",
       "      <th>2</th>\n",
       "      <td>0.28</td>\n",
       "      <td>0.044</td>\n",
       "      <td>0.078</td>\n",
       "      <td>0.022</td>\n",
       "      <td>0.0061</td>\n",
       "      <td>0.0017</td>\n",
       "      <td>0.00047</td>\n",
       "      <td>0.00013</td>\n",
       "      <td>3.7e-05</td>\n",
       "      <td>1e-05</td>\n",
       "      <td>2.9e-06</td>\n",
       "      <td>8.1e-07</td>\n",
       "      <td>2.2e-07</td>\n",
       "      <td>6.3e-08</td>\n",
       "      <td>1.8e-08</td>\n",
       "      <td>4.9e-09</td>\n",
       "    </tr>\n",
       "    <tr>\n",
       "      <th>3</th>\n",
       "      <td>0.33</td>\n",
       "      <td>0.32</td>\n",
       "      <td>0.11</td>\n",
       "      <td>0.036</td>\n",
       "      <td>0.012</td>\n",
       "      <td>0.004</td>\n",
       "      <td>0.0013</td>\n",
       "      <td>0.00044</td>\n",
       "      <td>0.00015</td>\n",
       "      <td>4.8e-05</td>\n",
       "      <td>1.6e-05</td>\n",
       "      <td>5.3e-06</td>\n",
       "      <td>1.8e-06</td>\n",
       "      <td>5.9e-07</td>\n",
       "      <td>1.9e-07</td>\n",
       "      <td>6.4e-08</td>\n",
       "    </tr>\n",
       "    <tr>\n",
       "      <th>4</th>\n",
       "      <td>0.38</td>\n",
       "      <td>0.47</td>\n",
       "      <td>0.15</td>\n",
       "      <td>0.057</td>\n",
       "      <td>0.022</td>\n",
       "      <td>0.0083</td>\n",
       "      <td>0.0032</td>\n",
       "      <td>0.0012</td>\n",
       "      <td>0.00047</td>\n",
       "      <td>0.00018</td>\n",
       "      <td>7e-05</td>\n",
       "      <td>2.7e-05</td>\n",
       "      <td>1e-05</td>\n",
       "      <td>3.9e-06</td>\n",
       "      <td>1.5e-06</td>\n",
       "      <td>5.8e-07</td>\n",
       "    </tr>\n",
       "  </tbody>\n",
       "</table>\n",
       "</div>"
      ],
      "text/plain": [
       "     x     y   x_2    x_3     x_4     x_5     x_6     x_7     x_8     x_9  \\\n",
       "0 0.17  0.37  0.03 0.0053 0.00093 0.00016 2.8e-05 4.9e-06 8.6e-07 1.5e-07   \n",
       "1 0.23  0.33 0.051  0.012  0.0027  0.0006 0.00014 3.1e-05   7e-06 1.6e-06   \n",
       "2 0.28 0.044 0.078  0.022  0.0061  0.0017 0.00047 0.00013 3.7e-05   1e-05   \n",
       "3 0.33  0.32  0.11  0.036   0.012   0.004  0.0013 0.00044 0.00015 4.8e-05   \n",
       "4 0.38  0.47  0.15  0.057   0.022  0.0083  0.0032  0.0012 0.00047 0.00018   \n",
       "\n",
       "     x_10    x_11    x_12    x_13    x_14    x_15  \n",
       "0 2.6e-08 4.6e-09   8e-10 1.4e-10 2.4e-11 4.2e-12  \n",
       "1 3.6e-07 8.2e-08 1.9e-08 4.2e-09 9.6e-10 2.2e-10  \n",
       "2 2.9e-06 8.1e-07 2.2e-07 6.3e-08 1.8e-08 4.9e-09  \n",
       "3 1.6e-05 5.3e-06 1.8e-06 5.9e-07 1.9e-07 6.4e-08  \n",
       "4   7e-05 2.7e-05   1e-05 3.9e-06 1.5e-06 5.8e-07  "
      ]
     },
     "execution_count": 103,
     "metadata": {},
     "output_type": "execute_result"
    }
   ],
   "source": [
    "# polynomial regression with powers of x from 1 to 15\n",
    "for i in range(2,16):  #power of 1 is already there, hence starting with 2\n",
    "    colname = 'x_%d'%i      #new var will be x_power\n",
    "    data[colname] = data['x']**i\n",
    "data.head()"
   ]
  },
  {
   "cell_type": "markdown",
   "metadata": {
    "colab_type": "text",
    "id": "n1nldRkUIsoU"
   },
   "source": [
    "### Creating test and train Set Randomly"
   ]
  },
  {
   "cell_type": "code",
   "execution_count": 104,
   "metadata": {
    "colab": {},
    "colab_type": "code",
    "id": "AUQZSAHhIfOT"
   },
   "outputs": [],
   "source": [
    "data['randNumCol'] = np.random.randint(1, 6, data.shape[0])\n",
    "\n",
    "train=data[data['randNumCol']<=3]\n",
    "test=data[data['randNumCol']>3]\n",
    "train = train.drop('randNumCol', axis=1)\n",
    "test = test.drop('randNumCol', axis=1)"
   ]
  },
  {
   "cell_type": "markdown",
   "metadata": {
    "colab_type": "text",
    "id": "1Z29VxBTIfOV"
   },
   "source": [
    "## Linear Regression"
   ]
  },
  {
   "cell_type": "code",
   "execution_count": 105,
   "metadata": {
    "colab": {},
    "colab_type": "code",
    "id": "AlurQC8dIfOW"
   },
   "outputs": [],
   "source": [
    "#Import Linear Regression model from scikit-learn.\n",
    "from sklearn.linear_model import LinearRegression"
   ]
  },
  {
   "cell_type": "code",
   "execution_count": 106,
   "metadata": {
    "colab": {},
    "colab_type": "code",
    "id": "VUf2CVczIfOY"
   },
   "outputs": [],
   "source": [
    "#Separating the independent and dependent variables\n",
    "X_train = train.drop('y', axis=1).values\n",
    "y_train = train['y'].values\n",
    "X_test = test.drop('y', axis=1).values\n",
    "y_test = test['y'].values"
   ]
  },
  {
   "cell_type": "code",
   "execution_count": null,
   "metadata": {},
   "outputs": [],
   "source": []
  },
  {
   "cell_type": "code",
   "execution_count": 107,
   "metadata": {
    "colab": {
     "base_uri": "https://localhost:8080/",
     "height": 320
    },
    "colab_type": "code",
    "executionInfo": {
     "elapsed": 4405,
     "status": "ok",
     "timestamp": 1560000618475,
     "user": {
      "displayName": "Sharoon Saxena",
      "photoUrl": "",
      "userId": "14774175216384036942"
     },
     "user_tz": -330
    },
    "id": "e87fTLw7IfOc",
    "outputId": "79e47a56-e717-4e5f-a169-6e39dd5644c2"
   },
   "outputs": [
    {
     "name": "stdout",
     "output_type": "stream",
     "text": [
      "Training Error 0.213144309581739\n",
      "Testing Error 0.18974033118165387\n"
     ]
    },
    {
     "data": {
      "text/plain": [
       "[<matplotlib.lines.Line2D at 0x285d1418cd0>]"
      ]
     },
     "execution_count": 107,
     "metadata": {},
     "output_type": "execute_result"
    },
    {
     "data": {
      "image/png": "[encoded data removed]",
      "text/plain": [
       "<Figure size 640x480 with 1 Axes>"
      ]
     },
     "metadata": {},
     "output_type": "display_data"
    }
   ],
   "source": [
    "#Linear regression with one features\n",
    "independent_variable_train = X_train[:,0:1]\n",
    "\n",
    "linreg = LinearRegression()\n",
    "linreg.fit(independent_variable_train,y_train)\n",
    "y_train_pred = linreg.predict(independent_variable_train)\n",
    "\n",
    "rss_train = sum((y_train_pred-y_train)**2) / X_train.shape[0]\n",
    "\n",
    "independent_variable_test = X_test[:,0:1]\n",
    "y_test_pred = linreg.predict(independent_variable_test)\n",
    "rss_test = sum((y_test_pred-y_test)**2)/ X_test.shape[0]\n",
    "\n",
    "print(\"Training Error\", rss_train)\n",
    "print(\"Testing Error\",rss_test)\n",
    "\n",
    "plt.plot(X_train[:,0:1],y_train_pred)\n",
    "plt.plot(X_train[:,0:1],y_train,'.')"
   ]
  },
  {
   "cell_type": "code",
   "execution_count": 114,
   "metadata": {},
   "outputs": [
    {
     "data": {
      "text/plain": [
       "array([[2.79252680e-01, 7.79820595e-02, 2.17766991e-02, 6.08120160e-03,\n",
       "        1.69819185e-03, 4.74224625e-04, 1.32428498e-04, 3.69810129e-05,\n",
       "        1.03270470e-05, 2.88385555e-06, 8.05324391e-07, 2.24888995e-07,\n",
       "        6.28008545e-08, 1.75373070e-08, 4.89733997e-09]])"
      ]
     },
     "execution_count": 114,
     "metadata": {},
     "output_type": "execute_result"
    }
   ],
   "source": []
  },
  {
   "cell_type": "code",
   "execution_count": 81,
   "metadata": {
    "colab": {
     "base_uri": "https://localhost:8080/",
     "height": 320
    },
    "colab_type": "code",
    "executionInfo": {
     "elapsed": 4372,
     "status": "ok",
     "timestamp": 1560000618476,
     "user": {
      "displayName": "Sharoon Saxena",
      "photoUrl": "",
      "userId": "14774175216384036942"
     },
     "user_tz": -330
    },
    "id": "ktx_Ep4LIfOf",
    "outputId": "8422f232-8f22-4890-892c-f1aeb269f5be"
   },
   "outputs": [
    {
     "name": "stdout",
     "output_type": "stream",
     "text": [
      "Training Error 0.021472481770965727\n",
      "Testing Error 0.030451878881970883\n"
     ]
    },
    {
     "data": {
      "text/plain": [
       "[<matplotlib.lines.Line2D at 0x285d11ce790>]"
      ]
     },
     "execution_count": 81,
     "metadata": {},
     "output_type": "execute_result"
    },
    {
     "data": {
      "image/png": "[encoded data removed]",
      "text/plain": [
       "<Figure size 640x480 with 1 Axes>"
      ]
     },
     "metadata": {},
     "output_type": "display_data"
    }
   ],
   "source": [
    "#Linear regression with three features\n",
    "independent_variable_train = X_train[:,0:3]\n",
    "\n",
    "linreg = LinearRegression()\n",
    "linreg.fit(independent_variable_train,y_train)\n",
    "y_train_pred = linreg.predict(independent_variable_train)\n",
    "\n",
    "rss_train = sum((y_train_pred-y_train)**2) / X_train.shape[0]\n",
    "\n",
    "independent_variable_test = X_test[:,0:3]\n",
    "y_test_pred = linreg.predict(independent_variable_test)\n",
    "rss_test = sum((y_test_pred-y_test)**2)/ X_test.shape[0]\n",
    "\n",
    "print(\"Training Error\", rss_train)\n",
    "print(\"Testing Error\",rss_test)\n",
    "\n",
    "plt.plot(X_train[:,0:1],y_train_pred)\n",
    "plt.plot(X_train[:,0:1],y_train,'.')"
   ]
  },
  {
   "cell_type": "code",
   "execution_count": 82,
   "metadata": {
    "colab": {
     "base_uri": "https://localhost:8080/",
     "height": 320
    },
    "colab_type": "code",
    "executionInfo": {
     "elapsed": 4357,
     "status": "ok",
     "timestamp": 1560000618477,
     "user": {
      "displayName": "Sharoon Saxena",
      "photoUrl": "",
      "userId": "14774175216384036942"
     },
     "user_tz": -330
    },
    "id": "blee6wddIfOi",
    "outputId": "363df04b-46bd-4a2e-d27c-a9c3f84848ef"
   },
   "outputs": [
    {
     "ename": "TypeError",
     "evalue": "LinearRegression.__init__() got an unexpected keyword argument 'normalize'",
     "output_type": "error",
     "traceback": [
      "\u001b[1;31m---------------------------------------------------------------------------\u001b[0m",
      "\u001b[1;31mTypeError\u001b[0m                                 Traceback (most recent call last)",
      "Cell \u001b[1;32mIn[82], line 4\u001b[0m\n\u001b[0;32m      1\u001b[0m \u001b[38;5;66;03m#Linear regression with Seven features\u001b[39;00m\n\u001b[0;32m      2\u001b[0m independent_variable_train \u001b[38;5;241m=\u001b[39m X_train[:,\u001b[38;5;241m0\u001b[39m:\u001b[38;5;241m9\u001b[39m]\n\u001b[1;32m----> 4\u001b[0m linreg \u001b[38;5;241m=\u001b[39m LinearRegression(normalize\u001b[38;5;241m=\u001b[39m\u001b[38;5;28;01mTrue\u001b[39;00m)\n\u001b[0;32m      5\u001b[0m linreg\u001b[38;5;241m.\u001b[39mfit(independent_variable_train,y_train)\n\u001b[0;32m      6\u001b[0m y_train_pred \u001b[38;5;241m=\u001b[39m linreg\u001b[38;5;241m.\u001b[39mpredict(independent_variable_train)\n",
      "\u001b[1;31mTypeError\u001b[0m: LinearRegression.__init__() got an unexpected keyword argument 'normalize'"
     ]
    }
   ],
   "source": [
    "#Linear regression with Seven features\n",
    "independent_variable_train = X_train[:,0:9]\n",
    "\n",
    "linreg = LinearRegression(normalize=True)\n",
    "linreg.fit(independent_variable_train,y_train)\n",
    "y_train_pred = linreg.predict(independent_variable_train)\n",
    "\n",
    "rss_train = sum((y_train_pred-y_train)**2) / X_train.shape[0]\n",
    "\n",
    "independent_variable_test = X_test[:,0:9]\n",
    "y_test_pred = linreg.predict(independent_variable_test)\n",
    "rss_test = sum((y_test_pred-y_test)**2)/ X_test.shape[0]\n",
    "\n",
    "print(\"Training Error\", rss_train)\n",
    "print(\"Testing Error\",rss_test)\n",
    "\n",
    "plt.plot(X_train[:,0:1],y_train_pred)\n",
    "plt.plot(X_train[:,0:1],y_train,'.')"
   ]
  },
  {
   "cell_type": "code",
   "execution_count": 88,
   "metadata": {
    "colab": {},
    "colab_type": "code",
    "id": "s3Cd83HrIfOk"
   },
   "outputs": [],
   "source": [
    "# defining a function which will fit linear regression model, plot the results, and return the coefficients\n",
    "def linear_regression(train_x, train_y, test_x, test_y, features, models_to_plot):\n",
    "        \n",
    "    #Fit the model\n",
    "    linreg = LinearRegression()\n",
    "    linreg.fit(train_x,train_y)\n",
    "    train_y_pred = linreg.predict(train_x)\n",
    "    test_y_pred = linreg.predict(test_x)\n",
    "    \n",
    "    #Check if a plot is to be made for the entered features\n",
    "    if features in models_to_plot:\n",
    "        plt.subplot(models_to_plot[features])\n",
    "        plt.tight_layout()\n",
    "        plt.plot(train_x[:,0:1],train_y_pred)\n",
    "        \n",
    "        plt.plot(train_x[:,0:1],train_y,'.')\n",
    "        \n",
    "        plt.title('Number of Predictors: %d'%features)\n",
    "    \n",
    "    #Return the result in pre-defined format\n",
    "    rss_train = sum((train_y_pred-train_y)**2)/train_x.shape[0]\n",
    "    ret = [rss_train]\n",
    "    \n",
    "    rss_test = sum((test_y_pred-test_y)**2)/test_x.shape[0]\n",
    "    ret.extend([rss_test])\n",
    "    \n",
    "    ret.extend([linreg.intercept_])\n",
    "    ret.extend(linreg.coef_)\n",
    "    \n",
    "    return ret"
   ]
  },
  {
   "cell_type": "code",
   "execution_count": 89,
   "metadata": {
    "colab": {},
    "colab_type": "code",
    "id": "dTH2mkB3IfOm"
   },
   "outputs": [],
   "source": [
    "#Initialize a dataframe to store the results:\n",
    "col = ['mrss_train','mrss_test','intercept'] + ['coef_Var_%d'%i for i in range(1,16)]\n",
    "ind = ['Number_of_variable_%d'%i for i in range(1,16)]\n",
    "coef_matrix_simple = pd.DataFrame(index=ind, columns=col)"
   ]
  },
  {
   "cell_type": "code",
   "execution_count": 90,
   "metadata": {
    "colab": {},
    "colab_type": "code",
    "id": "wkc3Cg_sIfOr"
   },
   "outputs": [],
   "source": [
    "#Define the number of features for which a plot is required:\n",
    "models_to_plot = {1:231,3:232,6:233,9:234,12:235,15:236}"
   ]
  },
  {
   "cell_type": "code",
   "execution_count": 91,
   "metadata": {
    "colab": {
     "base_uri": "https://localhost:8080/",
     "height": 585
    },
    "colab_type": "code",
    "executionInfo": {
     "elapsed": 10100,
     "status": "ok",
     "timestamp": 1560000624263,
     "user": {
      "displayName": "Sharoon Saxena",
      "photoUrl": "",
      "userId": "14774175216384036942"
     },
     "user_tz": -330
    },
    "id": "latyKt6WIfOu",
    "outputId": "0e1394cc-d2de-40d5-b88b-332cd58b7e6d"
   },
   "outputs": [
    {
     "name": "stderr",
     "output_type": "stream",
     "text": [
      "C:\\Users\\AhmedSahal\\AppData\\Local\\Temp\\ipykernel_12400\\1662233306.py:13: UserWarning: The figure layout has changed to tight\n",
      "  plt.tight_layout()\n",
      "C:\\Users\\AhmedSahal\\AppData\\Local\\Temp\\ipykernel_12400\\1662233306.py:13: UserWarning: The figure layout has changed to tight\n",
      "  plt.tight_layout()\n",
      "C:\\Users\\AhmedSahal\\AppData\\Local\\Temp\\ipykernel_12400\\1662233306.py:13: UserWarning: The figure layout has changed to tight\n",
      "  plt.tight_layout()\n",
      "C:\\Users\\AhmedSahal\\AppData\\Local\\Temp\\ipykernel_12400\\1662233306.py:13: UserWarning: The figure layout has changed to tight\n",
      "  plt.tight_layout()\n",
      "C:\\Users\\AhmedSahal\\AppData\\Local\\Temp\\ipykernel_12400\\1662233306.py:13: UserWarning: The figure layout has changed to tight\n",
      "  plt.tight_layout()\n"
     ]
    },
    {
     "data": {
      "image/png": "[encoded data removed]",
      "text/plain": [
       "<Figure size 1200x800 with 6 Axes>"
      ]
     },
     "metadata": {},
     "output_type": "display_data"
    }
   ],
   "source": [
    "#Iterate through all powers and store the results in a matrix form\n",
    "plt.figure(figsize=(12,8))\n",
    "for i in range(1,16):\n",
    "    train_x = X_train[:,0:i]\n",
    "    train_y = y_train\n",
    "    test_x = X_test[:,0:i]\n",
    "    test_y = y_test\n",
    "    \n",
    "    coef_matrix_simple.iloc[i-1,0:i+3] = linear_regression(train_x,train_y, test_x, test_y, features=i, models_to_plot=models_to_plot)"
   ]
  },
  {
   "cell_type": "code",
   "execution_count": 92,
   "metadata": {
    "colab": {
     "base_uri": "https://localhost:8080/",
     "height": 534
    },
    "colab_type": "code",
    "executionInfo": {
     "elapsed": 10066,
     "status": "ok",
     "timestamp": 1560000624265,
     "user": {
      "displayName": "Sharoon Saxena",
      "photoUrl": "",
      "userId": "14774175216384036942"
     },
     "user_tz": -330
    },
    "id": "4fQrthy0IfOy",
    "outputId": "f31c7e6c-92d0-458d-9cc5-931d066393f8"
   },
   "outputs": [
    {
     "data": {
      "text/html": [
       "<div>\n",
       "<style scoped>\n",
       "    .dataframe tbody tr th:only-of-type {\n",
       "        vertical-align: middle;\n",
       "    }\n",
       "\n",
       "    .dataframe tbody tr th {\n",
       "        vertical-align: top;\n",
       "    }\n",
       "\n",
       "    .dataframe thead th {\n",
       "        text-align: right;\n",
       "    }\n",
       "</style>\n",
       "<table border=\"1\" class=\"dataframe\">\n",
       "  <thead>\n",
       "    <tr style=\"text-align: right;\">\n",
       "      <th></th>\n",
       "      <th>mrss_train</th>\n",
       "      <th>mrss_test</th>\n",
       "      <th>intercept</th>\n",
       "      <th>coef_Var_1</th>\n",
       "      <th>coef_Var_2</th>\n",
       "      <th>coef_Var_3</th>\n",
       "      <th>coef_Var_4</th>\n",
       "      <th>coef_Var_5</th>\n",
       "      <th>coef_Var_6</th>\n",
       "      <th>coef_Var_7</th>\n",
       "      <th>coef_Var_8</th>\n",
       "      <th>coef_Var_9</th>\n",
       "      <th>coef_Var_10</th>\n",
       "      <th>coef_Var_11</th>\n",
       "      <th>coef_Var_12</th>\n",
       "      <th>coef_Var_13</th>\n",
       "      <th>coef_Var_14</th>\n",
       "      <th>coef_Var_15</th>\n",
       "    </tr>\n",
       "  </thead>\n",
       "  <tbody>\n",
       "    <tr>\n",
       "      <th>Number_of_variable_1</th>\n",
       "      <td>0.21</td>\n",
       "      <td>0.19</td>\n",
       "      <td>1</td>\n",
       "      <td>-0.31</td>\n",
       "      <td>NaN</td>\n",
       "      <td>NaN</td>\n",
       "      <td>NaN</td>\n",
       "      <td>NaN</td>\n",
       "      <td>NaN</td>\n",
       "      <td>NaN</td>\n",
       "      <td>NaN</td>\n",
       "      <td>NaN</td>\n",
       "      <td>NaN</td>\n",
       "      <td>NaN</td>\n",
       "      <td>NaN</td>\n",
       "      <td>NaN</td>\n",
       "      <td>NaN</td>\n",
       "      <td>NaN</td>\n",
       "    </tr>\n",
       "    <tr>\n",
       "      <th>Number_of_variable_2</th>\n",
       "      <td>0.21</td>\n",
       "      <td>0.19</td>\n",
       "      <td>1.1</td>\n",
       "      <td>-0.39</td>\n",
       "      <td>0.012</td>\n",
       "      <td>NaN</td>\n",
       "      <td>NaN</td>\n",
       "      <td>NaN</td>\n",
       "      <td>NaN</td>\n",
       "      <td>NaN</td>\n",
       "      <td>NaN</td>\n",
       "      <td>NaN</td>\n",
       "      <td>NaN</td>\n",
       "      <td>NaN</td>\n",
       "      <td>NaN</td>\n",
       "      <td>NaN</td>\n",
       "      <td>NaN</td>\n",
       "      <td>NaN</td>\n",
       "    </tr>\n",
       "    <tr>\n",
       "      <th>Number_of_variable_3</th>\n",
       "      <td>0.021</td>\n",
       "      <td>0.03</td>\n",
       "      <td>-0.4</td>\n",
       "      <td>2.2</td>\n",
       "      <td>-0.99</td>\n",
       "      <td>0.1</td>\n",
       "      <td>NaN</td>\n",
       "      <td>NaN</td>\n",
       "      <td>NaN</td>\n",
       "      <td>NaN</td>\n",
       "      <td>NaN</td>\n",
       "      <td>NaN</td>\n",
       "      <td>NaN</td>\n",
       "      <td>NaN</td>\n",
       "      <td>NaN</td>\n",
       "      <td>NaN</td>\n",
       "      <td>NaN</td>\n",
       "      <td>NaN</td>\n",
       "    </tr>\n",
       "    <tr>\n",
       "      <th>Number_of_variable_4</th>\n",
       "      <td>0.021</td>\n",
       "      <td>0.03</td>\n",
       "      <td>-0.43</td>\n",
       "      <td>2.3</td>\n",
       "      <td>-1</td>\n",
       "      <td>0.12</td>\n",
       "      <td>-0.001</td>\n",
       "      <td>NaN</td>\n",
       "      <td>NaN</td>\n",
       "      <td>NaN</td>\n",
       "      <td>NaN</td>\n",
       "      <td>NaN</td>\n",
       "      <td>NaN</td>\n",
       "      <td>NaN</td>\n",
       "      <td>NaN</td>\n",
       "      <td>NaN</td>\n",
       "      <td>NaN</td>\n",
       "      <td>NaN</td>\n",
       "    </tr>\n",
       "    <tr>\n",
       "      <th>Number_of_variable_5</th>\n",
       "      <td>0.02</td>\n",
       "      <td>0.023</td>\n",
       "      <td>-0.096</td>\n",
       "      <td>1.2</td>\n",
       "      <td>0.0084</td>\n",
       "      <td>-0.29</td>\n",
       "      <td>0.069</td>\n",
       "      <td>-0.0043</td>\n",
       "      <td>NaN</td>\n",
       "      <td>NaN</td>\n",
       "      <td>NaN</td>\n",
       "      <td>NaN</td>\n",
       "      <td>NaN</td>\n",
       "      <td>NaN</td>\n",
       "      <td>NaN</td>\n",
       "      <td>NaN</td>\n",
       "      <td>NaN</td>\n",
       "      <td>NaN</td>\n",
       "    </tr>\n",
       "    <tr>\n",
       "      <th>Number_of_variable_6</th>\n",
       "      <td>0.019</td>\n",
       "      <td>0.028</td>\n",
       "      <td>-0.4</td>\n",
       "      <td>2.5</td>\n",
       "      <td>-1.6</td>\n",
       "      <td>0.66</td>\n",
       "      <td>-0.2</td>\n",
       "      <td>0.031</td>\n",
       "      <td>-0.0018</td>\n",
       "      <td>NaN</td>\n",
       "      <td>NaN</td>\n",
       "      <td>NaN</td>\n",
       "      <td>NaN</td>\n",
       "      <td>NaN</td>\n",
       "      <td>NaN</td>\n",
       "      <td>NaN</td>\n",
       "      <td>NaN</td>\n",
       "      <td>NaN</td>\n",
       "    </tr>\n",
       "    <tr>\n",
       "      <th>Number_of_variable_7</th>\n",
       "      <td>0.019</td>\n",
       "      <td>0.028</td>\n",
       "      <td>-0.38</td>\n",
       "      <td>2.4</td>\n",
       "      <td>-1.5</td>\n",
       "      <td>0.53</td>\n",
       "      <td>-0.15</td>\n",
       "      <td>0.021</td>\n",
       "      <td>-0.00067</td>\n",
       "      <td>-5.1e-05</td>\n",
       "      <td>NaN</td>\n",
       "      <td>NaN</td>\n",
       "      <td>NaN</td>\n",
       "      <td>NaN</td>\n",
       "      <td>NaN</td>\n",
       "      <td>NaN</td>\n",
       "      <td>NaN</td>\n",
       "      <td>NaN</td>\n",
       "    </tr>\n",
       "    <tr>\n",
       "      <th>Number_of_variable_8</th>\n",
       "      <td>0.019</td>\n",
       "      <td>0.032</td>\n",
       "      <td>-0.85</td>\n",
       "      <td>5.1</td>\n",
       "      <td>-7</td>\n",
       "      <td>6</td>\n",
       "      <td>-3.1</td>\n",
       "      <td>0.92</td>\n",
       "      <td>-0.16</td>\n",
       "      <td>0.015</td>\n",
       "      <td>-0.00058</td>\n",
       "      <td>NaN</td>\n",
       "      <td>NaN</td>\n",
       "      <td>NaN</td>\n",
       "      <td>NaN</td>\n",
       "      <td>NaN</td>\n",
       "      <td>NaN</td>\n",
       "      <td>NaN</td>\n",
       "    </tr>\n",
       "    <tr>\n",
       "      <th>Number_of_variable_9</th>\n",
       "      <td>0.019</td>\n",
       "      <td>0.032</td>\n",
       "      <td>-0.94</td>\n",
       "      <td>5.7</td>\n",
       "      <td>-8.5</td>\n",
       "      <td>7.7</td>\n",
       "      <td>-4.3</td>\n",
       "      <td>1.4</td>\n",
       "      <td>-0.28</td>\n",
       "      <td>0.033</td>\n",
       "      <td>-0.002</td>\n",
       "      <td>5e-05</td>\n",
       "      <td>NaN</td>\n",
       "      <td>NaN</td>\n",
       "      <td>NaN</td>\n",
       "      <td>NaN</td>\n",
       "      <td>NaN</td>\n",
       "      <td>NaN</td>\n",
       "    </tr>\n",
       "    <tr>\n",
       "      <th>Number_of_variable_10</th>\n",
       "      <td>0.018</td>\n",
       "      <td>0.044</td>\n",
       "      <td>-2.4</td>\n",
       "      <td>16</td>\n",
       "      <td>-38</td>\n",
       "      <td>50</td>\n",
       "      <td>-39</td>\n",
       "      <td>19</td>\n",
       "      <td>-6</td>\n",
       "      <td>1.2</td>\n",
       "      <td>-0.15</td>\n",
       "      <td>0.011</td>\n",
       "      <td>-0.00033</td>\n",
       "      <td>NaN</td>\n",
       "      <td>NaN</td>\n",
       "      <td>NaN</td>\n",
       "      <td>NaN</td>\n",
       "      <td>NaN</td>\n",
       "    </tr>\n",
       "    <tr>\n",
       "      <th>Number_of_variable_11</th>\n",
       "      <td>0.018</td>\n",
       "      <td>0.034</td>\n",
       "      <td>-0.34</td>\n",
       "      <td>-0.37</td>\n",
       "      <td>15</td>\n",
       "      <td>-38</td>\n",
       "      <td>47</td>\n",
       "      <td>-34</td>\n",
       "      <td>16</td>\n",
       "      <td>-4.7</td>\n",
       "      <td>0.9</td>\n",
       "      <td>-0.11</td>\n",
       "      <td>0.0073</td>\n",
       "      <td>-0.00021</td>\n",
       "      <td>NaN</td>\n",
       "      <td>NaN</td>\n",
       "      <td>NaN</td>\n",
       "      <td>NaN</td>\n",
       "    </tr>\n",
       "    <tr>\n",
       "      <th>Number_of_variable_12</th>\n",
       "      <td>0.018</td>\n",
       "      <td>0.028</td>\n",
       "      <td>1.6</td>\n",
       "      <td>-18</td>\n",
       "      <td>78</td>\n",
       "      <td>-1.6e+02</td>\n",
       "      <td>1.8e+02</td>\n",
       "      <td>-1.4e+02</td>\n",
       "      <td>67</td>\n",
       "      <td>-22</td>\n",
       "      <td>4.9</td>\n",
       "      <td>-0.74</td>\n",
       "      <td>0.071</td>\n",
       "      <td>-0.0039</td>\n",
       "      <td>9.5e-05</td>\n",
       "      <td>NaN</td>\n",
       "      <td>NaN</td>\n",
       "      <td>NaN</td>\n",
       "    </tr>\n",
       "    <tr>\n",
       "      <th>Number_of_variable_13</th>\n",
       "      <td>0.018</td>\n",
       "      <td>0.029</td>\n",
       "      <td>0.84</td>\n",
       "      <td>-10</td>\n",
       "      <td>47</td>\n",
       "      <td>-92</td>\n",
       "      <td>98</td>\n",
       "      <td>-62</td>\n",
       "      <td>23</td>\n",
       "      <td>-3.9</td>\n",
       "      <td>-0.31</td>\n",
       "      <td>0.32</td>\n",
       "      <td>-0.077</td>\n",
       "      <td>0.0095</td>\n",
       "      <td>-0.00062</td>\n",
       "      <td>1.7e-05</td>\n",
       "      <td>NaN</td>\n",
       "      <td>NaN</td>\n",
       "    </tr>\n",
       "    <tr>\n",
       "      <th>Number_of_variable_14</th>\n",
       "      <td>0.017</td>\n",
       "      <td>0.056</td>\n",
       "      <td>-5.5</td>\n",
       "      <td>57</td>\n",
       "      <td>-2.4e+02</td>\n",
       "      <td>6e+02</td>\n",
       "      <td>-9.3e+02</td>\n",
       "      <td>9.5e+02</td>\n",
       "      <td>-6.7e+02</td>\n",
       "      <td>3.3e+02</td>\n",
       "      <td>-1.2e+02</td>\n",
       "      <td>30</td>\n",
       "      <td>-5.3</td>\n",
       "      <td>0.67</td>\n",
       "      <td>-0.055</td>\n",
       "      <td>0.0027</td>\n",
       "      <td>-5.9e-05</td>\n",
       "      <td>NaN</td>\n",
       "    </tr>\n",
       "    <tr>\n",
       "      <th>Number_of_variable_15</th>\n",
       "      <td>0.017</td>\n",
       "      <td>0.028</td>\n",
       "      <td>1.3</td>\n",
       "      <td>-13</td>\n",
       "      <td>50</td>\n",
       "      <td>-76</td>\n",
       "      <td>42</td>\n",
       "      <td>26</td>\n",
       "      <td>-59</td>\n",
       "      <td>46</td>\n",
       "      <td>-22</td>\n",
       "      <td>6.8</td>\n",
       "      <td>-1.5</td>\n",
       "      <td>0.22</td>\n",
       "      <td>-0.023</td>\n",
       "      <td>0.0015</td>\n",
       "      <td>-5.8e-05</td>\n",
       "      <td>1e-06</td>\n",
       "    </tr>\n",
       "  </tbody>\n",
       "</table>\n",
       "</div>"
      ],
      "text/plain": [
       "                      mrss_train mrss_test intercept coef_Var_1 coef_Var_2  \\\n",
       "Number_of_variable_1        0.21      0.19         1      -0.31        NaN   \n",
       "Number_of_variable_2        0.21      0.19       1.1      -0.39      0.012   \n",
       "Number_of_variable_3       0.021      0.03      -0.4        2.2      -0.99   \n",
       "Number_of_variable_4       0.021      0.03     -0.43        2.3         -1   \n",
       "Number_of_variable_5        0.02     0.023    -0.096        1.2     0.0084   \n",
       "Number_of_variable_6       0.019     0.028      -0.4        2.5       -1.6   \n",
       "Number_of_variable_7       0.019     0.028     -0.38        2.4       -1.5   \n",
       "Number_of_variable_8       0.019     0.032     -0.85        5.1         -7   \n",
       "Number_of_variable_9       0.019     0.032     -0.94        5.7       -8.5   \n",
       "Number_of_variable_10      0.018     0.044      -2.4         16        -38   \n",
       "Number_of_variable_11      0.018     0.034     -0.34      -0.37         15   \n",
       "Number_of_variable_12      0.018     0.028       1.6        -18         78   \n",
       "Number_of_variable_13      0.018     0.029      0.84        -10         47   \n",
       "Number_of_variable_14      0.017     0.056      -5.5         57   -2.4e+02   \n",
       "Number_of_variable_15      0.017     0.028       1.3        -13         50   \n",
       "\n",
       "                      coef_Var_3 coef_Var_4 coef_Var_5 coef_Var_6 coef_Var_7  \\\n",
       "Number_of_variable_1         NaN        NaN        NaN        NaN        NaN   \n",
       "Number_of_variable_2         NaN        NaN        NaN        NaN        NaN   \n",
       "Number_of_variable_3         0.1        NaN        NaN        NaN        NaN   \n",
       "Number_of_variable_4        0.12     -0.001        NaN        NaN        NaN   \n",
       "Number_of_variable_5       -0.29      0.069    -0.0043        NaN        NaN   \n",
       "Number_of_variable_6        0.66       -0.2      0.031    -0.0018        NaN   \n",
       "Number_of_variable_7        0.53      -0.15      0.021   -0.00067   -5.1e-05   \n",
       "Number_of_variable_8           6       -3.1       0.92      -0.16      0.015   \n",
       "Number_of_variable_9         7.7       -4.3        1.4      -0.28      0.033   \n",
       "Number_of_variable_10         50        -39         19         -6        1.2   \n",
       "Number_of_variable_11        -38         47        -34         16       -4.7   \n",
       "Number_of_variable_12   -1.6e+02    1.8e+02   -1.4e+02         67        -22   \n",
       "Number_of_variable_13        -92         98        -62         23       -3.9   \n",
       "Number_of_variable_14      6e+02   -9.3e+02    9.5e+02   -6.7e+02    3.3e+02   \n",
       "Number_of_variable_15        -76         42         26        -59         46   \n",
       "\n",
       "                      coef_Var_8 coef_Var_9 coef_Var_10 coef_Var_11  \\\n",
       "Number_of_variable_1         NaN        NaN         NaN         NaN   \n",
       "Number_of_variable_2         NaN        NaN         NaN         NaN   \n",
       "Number_of_variable_3         NaN        NaN         NaN         NaN   \n",
       "Number_of_variable_4         NaN        NaN         NaN         NaN   \n",
       "Number_of_variable_5         NaN        NaN         NaN         NaN   \n",
       "Number_of_variable_6         NaN        NaN         NaN         NaN   \n",
       "Number_of_variable_7         NaN        NaN         NaN         NaN   \n",
       "Number_of_variable_8    -0.00058        NaN         NaN         NaN   \n",
       "Number_of_variable_9      -0.002      5e-05         NaN         NaN   \n",
       "Number_of_variable_10      -0.15      0.011    -0.00033         NaN   \n",
       "Number_of_variable_11        0.9      -0.11      0.0073    -0.00021   \n",
       "Number_of_variable_12        4.9      -0.74       0.071     -0.0039   \n",
       "Number_of_variable_13      -0.31       0.32      -0.077      0.0095   \n",
       "Number_of_variable_14   -1.2e+02         30        -5.3        0.67   \n",
       "Number_of_variable_15        -22        6.8        -1.5        0.22   \n",
       "\n",
       "                      coef_Var_12 coef_Var_13 coef_Var_14 coef_Var_15  \n",
       "Number_of_variable_1          NaN         NaN         NaN         NaN  \n",
       "Number_of_variable_2          NaN         NaN         NaN         NaN  \n",
       "Number_of_variable_3          NaN         NaN         NaN         NaN  \n",
       "Number_of_variable_4          NaN         NaN         NaN         NaN  \n",
       "Number_of_variable_5          NaN         NaN         NaN         NaN  \n",
       "Number_of_variable_6          NaN         NaN         NaN         NaN  \n",
       "Number_of_variable_7          NaN         NaN         NaN         NaN  \n",
       "Number_of_variable_8          NaN         NaN         NaN         NaN  \n",
       "Number_of_variable_9          NaN         NaN         NaN         NaN  \n",
       "Number_of_variable_10         NaN         NaN         NaN         NaN  \n",
       "Number_of_variable_11         NaN         NaN         NaN         NaN  \n",
       "Number_of_variable_12     9.5e-05         NaN         NaN         NaN  \n",
       "Number_of_variable_13    -0.00062     1.7e-05         NaN         NaN  \n",
       "Number_of_variable_14      -0.055      0.0027    -5.9e-05         NaN  \n",
       "Number_of_variable_15      -0.023      0.0015    -5.8e-05       1e-06  "
      ]
     },
     "execution_count": 92,
     "metadata": {},
     "output_type": "execute_result"
    }
   ],
   "source": [
    "#Set the display format to be scientific for ease of analysis\n",
    "pd.options.display.float_format = '{:,.2g}'.format\n",
    "coef_matrix_simple"
   ]
  },
  {
   "cell_type": "code",
   "execution_count": 93,
   "metadata": {
    "colab": {
     "base_uri": "https://localhost:8080/",
     "height": 301
    },
    "colab_type": "code",
    "executionInfo": {
     "elapsed": 10056,
     "status": "ok",
     "timestamp": 1560000624266,
     "user": {
      "displayName": "Sharoon Saxena",
      "photoUrl": "",
      "userId": "14774175216384036942"
     },
     "user_tz": -330
    },
    "id": "WLcisBSWIfO3",
    "outputId": "26c4150f-659c-4533-9f4c-8cdd853ddeb9"
   },
   "outputs": [
    {
     "data": {
      "text/plain": [
       "<matplotlib.legend.Legend at 0x285d11c6510>"
      ]
     },
     "execution_count": 93,
     "metadata": {},
     "output_type": "execute_result"
    },
    {
     "data": {
      "image/png": "[encoded data removed]",
      "text/plain": [
       "<Figure size 640x480 with 1 Axes>"
      ]
     },
     "metadata": {},
     "output_type": "display_data"
    }
   ],
   "source": [
    "coef_matrix_simple[['mrss_train','mrss_test']].plot()\n",
    "plt.xlabel('Features')\n",
    "plt.ylabel('MRSS')\n",
    "plt.legend(['train', 'test'])"
   ]
  },
  {
   "cell_type": "code",
   "execution_count": null,
   "metadata": {},
   "outputs": [],
   "source": []
  },
  {
   "cell_type": "code",
   "execution_count": null,
   "metadata": {},
   "outputs": [],
   "source": []
  },
  {
   "cell_type": "code",
   "execution_count": null,
   "metadata": {},
   "outputs": [],
   "source": []
  }
 ],
 "metadata": {
  "colab": {
   "collapsed_sections": [],
   "name": "Ridge and Lasso Implementation.ipynb",
   "provenance": [],
   "version": "0.3.2"
  },
  "kernelspec": {
   "display_name": "Python 3 (ipykernel)",
   "language": "python",
   "name": "python3"
  },
  "language_info": {
   "codemirror_mode": {
    "name": "ipython",
    "version": 3
   },
   "file_extension": ".py",
   "mimetype": "text/x-python",
   "name": "python",
   "nbconvert_exporter": "python",
   "pygments_lexer": "ipython3",
   "version": "3.11.5"
  }
 },
 "nbformat": 4,
 "nbformat_minor": 1
}
