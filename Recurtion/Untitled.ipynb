{
 "cells": [
  {
   "cell_type": "code",
   "execution_count": 3,
   "id": "bfdbc4c0",
   "metadata": {},
   "outputs": [
    {
     "data": {
      "text/plain": [
       "120"
      ]
     },
     "execution_count": 3,
     "metadata": {},
     "output_type": "execute_result"
    }
   ],
   "source": [
    "def calculateFactorial(value):\n",
    "    final_factorial = 1\n",
    "    for num in range(1,value+1):\n",
    "        final_factorial = num * final_factorial\n",
    "    return final_factorial\n",
    "calculateFactorial(5)"
   ]
  },
  {
   "cell_type": "code",
   "execution_count": 6,
   "id": "b2d0f63a",
   "metadata": {},
   "outputs": [
    {
     "name": "stdout",
     "output_type": "stream",
     "text": [
      "1\n",
      "2\n",
      "6\n",
      "24\n"
     ]
    },
    {
     "data": {
      "text/plain": [
       "120"
      ]
     },
     "execution_count": 6,
     "metadata": {},
     "output_type": "execute_result"
    }
   ],
   "source": [
    "# recurtion \n",
    "def recurtion(value):\n",
    "    if value <= 1:\n",
    "        return 1\n",
    "    else:\n",
    "        current_loop = recurtion(value-1)\n",
    "        \n",
    "        return value * current_loop\n",
    "recurtion(5)"
   ]
  },
  {
   "cell_type": "code",
   "execution_count": 8,
   "id": "16714f71",
   "metadata": {},
   "outputs": [],
   "source": [
    "def imperative_fibonacchi(n_term):\n",
    "    \n",
    "    n1 = 0\n",
    "    n2 = 1\n",
    "    count = 0\n",
    "    output = []\n",
    "    \n",
    "    while count < n_term:\n",
    "        output.append(n1)\n",
    "        nth = n1 + n2\n",
    "        \n",
    "        #update\n",
    "        n1 = n2\n",
    "        n2 = nth\n",
    "        \n",
    "        count +=1\n",
    "    return output\n"
   ]
  },
  {
   "cell_type": "code",
   "execution_count": 9,
   "id": "ec297a4e",
   "metadata": {},
   "outputs": [
    {
     "data": {
      "text/plain": [
       "[0, 1, 1, 2, 3, 5, 8]"
      ]
     },
     "execution_count": 9,
     "metadata": {},
     "output_type": "execute_result"
    }
   ],
   "source": [
    "imperative_fibonacchi(7)"
   ]
  },
  {
   "cell_type": "code",
   "execution_count": 14,
   "id": "5c88002e",
   "metadata": {},
   "outputs": [],
   "source": [
    "def recurtion_fibonacchi(n_term):\n",
    "    \n",
    "    n1 = 0\n",
    "    n2 = 1\n",
    "    output = []\n",
    "    if n_term <= 1:\n",
    "        return n_term\n",
    "    else:\n",
    "        return(recurtion_fibonacchi(n_term-1) + recurtion_fibonacchi(n_term-2))\n",
    "        "
   ]
  },
  {
   "cell_type": "code",
   "execution_count": 15,
   "id": "84955b58",
   "metadata": {},
   "outputs": [
    {
     "data": {
      "text/plain": [
       "[0, 1, 1, 2, 3, 5, 8]"
      ]
     },
     "execution_count": 15,
     "metadata": {},
     "output_type": "execute_result"
    }
   ],
   "source": [
    "[recurtion_fibonacchi(i) for i in range(0,7)]"
   ]
  },
  {
   "cell_type": "code",
   "execution_count": null,
   "id": "688df599",
   "metadata": {},
   "outputs": [],
   "source": []
  }
 ],
 "metadata": {
  "kernelspec": {
   "display_name": "Python 3 (ipykernel)",
   "language": "python",
   "name": "python3"
  },
  "language_info": {
   "codemirror_mode": {
    "name": "ipython",
    "version": 3
   },
   "file_extension": ".py",
   "mimetype": "text/x-python",
   "name": "python",
   "nbconvert_exporter": "python",
   "pygments_lexer": "ipython3",
   "version": "3.11.5"
  }
 },
 "nbformat": 4,
 "nbformat_minor": 5
}
