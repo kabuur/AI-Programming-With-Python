{
 "cells": [
  {
   "cell_type": "code",
   "execution_count": 16,
   "id": "230cbd45",
   "metadata": {},
   "outputs": [],
   "source": [
    "# pip install pytesseract"
   ]
  },
  {
   "cell_type": "code",
   "execution_count": 17,
   "id": "84126c20",
   "metadata": {},
   "outputs": [],
   "source": [
    "# pip install Image"
   ]
  },
  {
   "cell_type": "code",
   "execution_count": 18,
   "id": "217ce0be",
   "metadata": {},
   "outputs": [],
   "source": [
    "import pytesseract "
   ]
  },
  {
   "cell_type": "code",
   "execution_count": 19,
   "id": "26400e46",
   "metadata": {},
   "outputs": [],
   "source": [
    "from PIL import Image"
   ]
  },
  {
   "cell_type": "code",
   "execution_count": 20,
   "id": "837aee44",
   "metadata": {},
   "outputs": [],
   "source": [
    "image_path = \"./image.png\""
   ]
  },
  {
   "cell_type": "code",
   "execution_count": 27,
   "id": "69088c7c",
   "metadata": {},
   "outputs": [],
   "source": [
    "pytesseract.pytesseract.tesseract_cmd = 'C:/Program Files/Tesseract-OCR/tesseract.exe'"
   ]
  },
  {
   "cell_type": "code",
   "execution_count": 28,
   "id": "e0c2a5d3",
   "metadata": {},
   "outputs": [],
   "source": [
    "img = Image.open(image_path)"
   ]
  },
  {
   "cell_type": "code",
   "execution_count": 29,
   "id": "22958c7b",
   "metadata": {},
   "outputs": [],
   "source": [
    "result = pytesseract.image_to_string(img)"
   ]
  },
  {
   "cell_type": "code",
   "execution_count": 30,
   "id": "3a4bb6f2",
   "metadata": {},
   "outputs": [
    {
     "name": "stdout",
     "output_type": "stream",
     "text": [
      "Curriculum Vitae\n",
      "\n",
      "PERSONAL INFORMATION\n",
      "\n",
      "Name : Ahmed Abdulkadir Mohamed\n",
      "Profisional : Fullstack Developer\n",
      "\n",
      "Date of Birth 2 1999\n",
      "\n",
      "Nationality : Somali\n",
      "\n",
      "Phone 2 +252-612757596\n",
      "\n",
      "E-mail axmedsahal933@gmail.com\n",
      "Github hitps://github.convkabuur\n",
      "\n",
      "My Portfolio : https://ahmed-sahal.firebaseapp.com\n",
      "Address\n",
      "\n",
      ": Hodon District, Mogadishu, Banadir Region, Somalia.\n",
      "\n",
      "Personal profile\n",
      "\n",
      "Skills\n",
      "\n",
      "Iam a highly skilled and experienced fullstack developer with a passion for\n",
      "creating innovative and user-friendly web applications. With a strong\n",
      "background in both frontend and backend development, I am proficient in a\n",
      "wide range of programming languages, frameworks, and tools. Iam\n",
      "detailoriented, dedicated, and have a proven track record of delivering\n",
      "\n",
      "highquality solutions that meet client requirements and exceed expectations.\n",
      "\n",
      "\n"
     ]
    }
   ],
   "source": [
    "print(result)"
   ]
  },
  {
   "cell_type": "code",
   "execution_count": null,
   "id": "612a9aa5",
   "metadata": {},
   "outputs": [],
   "source": []
  }
 ],
 "metadata": {
  "kernelspec": {
   "display_name": "Python 3 (ipykernel)",
   "language": "python",
   "name": "python3"
  },
  "language_info": {
   "codemirror_mode": {
    "name": "ipython",
    "version": 3
   },
   "file_extension": ".py",
   "mimetype": "text/x-python",
   "name": "python",
   "nbconvert_exporter": "python",
   "pygments_lexer": "ipython3",
   "version": "3.11.5"
  }
 },
 "nbformat": 4,
 "nbformat_minor": 5
}
