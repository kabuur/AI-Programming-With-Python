{
 "cells": [
  {
   "cell_type": "markdown",
   "metadata": {
    "id": "associate-china"
   },
   "source": [
    "<img src=\"https://i.ibb.co/WPbQ756/graph.png\">\n"
   ]
  },
  {
   "cell_type": "code",
   "execution_count": 1,
   "metadata": {
    "id": "suspended-witness",
    "outputId": "43d5f861-a0c2-4034-bf4e-fbeefab26a7c"
   },
   "outputs": [],
   "source": [
    "%load_ext lab_black"
   ]
  },
  {
   "cell_type": "markdown",
   "metadata": {
    "id": "rural-registration"
   },
   "source": [
    "### Defining fundamental operations"
   ]
  },
  {
   "cell_type": "code",
   "execution_count": 2,
   "metadata": {
    "id": "square-salad"
   },
   "outputs": [],
   "source": [
    "def adder(a, b):\n",
    "    return a + b"
   ]
  },
  {
   "cell_type": "code",
   "execution_count": 3,
   "metadata": {
    "id": "located-password"
   },
   "outputs": [],
   "source": [
    "def divider(a, b):\n",
    "    return a / b"
   ]
  },
  {
   "cell_type": "code",
   "execution_count": 4,
   "metadata": {
    "id": "baking-lloyd"
   },
   "outputs": [],
   "source": [
    "def subtractor(a, b):\n",
    "    return a - b"
   ]
  },
  {
   "cell_type": "code",
   "execution_count": 5,
   "metadata": {
    "id": "lonely-tomato"
   },
   "outputs": [],
   "source": [
    "def multiplier(a, b):\n",
    "    return a * b"
   ]
  },
  {
   "cell_type": "code",
   "execution_count": 6,
   "metadata": {
    "id": "flying-pointer"
   },
   "outputs": [],
   "source": [
    "def sqrt(a):\n",
    "    return a ** (0.5)"
   ]
  },
  {
   "cell_type": "markdown",
   "metadata": {
    "id": "invalid-teaching"
   },
   "source": [
    "### Constructing operation specific to Herons Formula"
   ]
  },
  {
   "cell_type": "code",
   "execution_count": 7,
   "metadata": {
    "id": "apparent-despite"
   },
   "outputs": [],
   "source": [
    "from functools import reduce, partial"
   ]
  },
  {
   "cell_type": "code",
   "execution_count": 9,
   "metadata": {},
   "outputs": [],
   "source": [
    "def heron_adder(*values):\n",
    "    \"\"\"Can sum any number of values (3 in case of Heron's formula)\"\"\"\n",
    "    return reduce(adder, values)"
   ]
  },
  {
   "cell_type": "code",
   "execution_count": 10,
   "metadata": {
    "id": "patient-death"
   },
   "outputs": [],
   "source": [
    "def heron_multiplier(values):\n",
    "    \"\"\"Can multiply any number of values (4 in case of Heron's formula)\"\"\"\n",
    "    return reduce(multiplier, values)"
   ]
  },
  {
   "cell_type": "markdown",
   "metadata": {
    "id": "electronic-majority"
   },
   "source": [
    "### Function to perform Heron's Formula"
   ]
  },
  {
   "cell_type": "code",
   "execution_count": null,
   "metadata": {
    "id": "concerned-english"
   },
   "outputs": [],
   "source": [
    "def herons_formula(a, b, c):\n",
    "    \"\"\"Computes area of triangle using heron's formula\n",
    "\n",
    "    Parameters:\n",
    "    a(float): first side of a triangle\n",
    "    b(float): second side of a triangle\n",
    "    c(float): third side of a triangle\n",
    "\n",
    "    returns(float): area of triangle\n",
    "    \"\"\"\n",
    "    semi_perimeter = divider(heron_adder(a, b, c), 2)\n",
    "    a_difference = subtractor(semi_perimeter, a)\n",
    "    b_difference = subtractor(semi_perimeter, b)\n",
    "    c_difference = subtractor(semi_perimeter, c)\n",
    "    insider_product = heron_multiplier([a_difference, b_difference, c_difference, semi_perimeter])\n",
    "    final_area = sqrt(insider_product)\n",
    "    return final_area"
   ]
  },
  {
   "cell_type": "code",
   "execution_count": null,
   "metadata": {
    "id": "bulgarian-colony",
    "outputId": "e51dc0da-b90f-4fe4-b98e-340659cfcf38"
   },
   "outputs": [
    {
     "data": {
      "text/plain": [
       "6.0"
      ]
     },
     "execution_count": 24,
     "metadata": {
      "tags": []
     },
     "output_type": "execute_result"
    }
   ],
   "source": [
    "herons_formula(3, 4, 5)"
   ]
  }
 ],
 "metadata": {
  "colab": {
   "collapsed_sections": [],
   "name": "Computation graph.ipynb",
   "provenance": []
  },
  "kernelspec": {
   "display_name": "Python 3",
   "language": "python",
   "name": "python3"
  },
  "language_info": {
   "codemirror_mode": {
    "name": "ipython",
    "version": 3
   },
   "file_extension": ".py",
   "mimetype": "text/x-python",
   "name": "python",
   "nbconvert_exporter": "python",
   "pygments_lexer": "ipython3",
   "version": "3.7.4"
  }
 },
 "nbformat": 4,
 "nbformat_minor": 5
}
